{
 "cells": [
  {
   "cell_type": "markdown",
   "id": "9e50a930",
   "metadata": {},
   "source": [
    "## Question1"
   ]
  },
  {
   "cell_type": "markdown",
   "id": "b8485196",
   "metadata": {},
   "source": [
    "#### What value is displayed when the last expression (a) is evaluated? Explain your answer by indicating what happens in every executed statement.\n"
   ]
  },
  {
   "cell_type": "code",
   "execution_count": 1,
   "id": "06bdcbd1",
   "metadata": {},
   "outputs": [],
   "source": [
    "a = 0\n",
    "\n",
    "def b():\n",
    "    global a\n",
    "    a = c(a)\n",
    "    print(a)\n",
    "    \n",
    "def c(a):\n",
    "    return a+2\n"
   ]
  },
  {
   "cell_type": "code",
   "execution_count": 2,
   "id": "c0195809",
   "metadata": {
    "scrolled": true
   },
   "outputs": [
    {
     "name": "stdout",
     "output_type": "stream",
     "text": [
      "2\n",
      "4\n",
      "6\n"
     ]
    }
   ],
   "source": [
    "b()\n",
    "b()\n",
    "b()"
   ]
  },
  {
   "cell_type": "code",
   "execution_count": 3,
   "id": "8c9ae5f9",
   "metadata": {},
   "outputs": [
    {
     "data": {
      "text/plain": [
       "6"
      ]
     },
     "execution_count": 3,
     "metadata": {},
     "output_type": "execute_result"
    }
   ],
   "source": [
    "a\n"
   ]
  },
  {
   "cell_type": "markdown",
   "id": "f2e601fd",
   "metadata": {},
   "source": [
    "#### Explaination :"
   ]
  },
  {
   "cell_type": "markdown",
   "id": "c7bfe055",
   "metadata": {},
   "source": [
    "##### First of all, 0 value is assigend to 'a'.Then the function 'b()' is called, it assigns the global variable 'a' to the result of 'c(a)'. Intially 'a=0' that is why 'c(a)' returns 2 because function 'c(a)' returns '0+2'. As a result, 2 is assigned to 'a'. Secondly, Function 'b' is called again, same as previous it follows the step and 'b()' assigns 4 to 'a' now as '2+2' retuned by 'c(a)'. Thirdly, once agian function 'b' is called and repeats the step and assigend the 6 to 'a', which is 4+2 as 'c(a)' is 'a+2'. Finally, when the value of 'a' is evaluted, it returns the current value of 'a', which is 6.\n",
    "##### Therefore, it displays 6."
   ]
  },
  {
   "cell_type": "markdown",
   "id": "4fd0baf7",
   "metadata": {},
   "source": [
    "## Question 2"
   ]
  },
  {
   "cell_type": "code",
   "execution_count": 4,
   "id": "e76641c5",
   "metadata": {},
   "outputs": [],
   "source": [
    "def file_length(file_name):\n",
    "\n",
    "    try:\n",
    "        file_read = open(file_name)\n",
    "        file_data = file_read.read()\n",
    "        file_read.close()\n",
    "        print(len(file_data))\n",
    "\n",
    "    except FileNotFoundError:\n",
    "        print(f\"file {file_name} is not found.\")"
   ]
  },
  {
   "cell_type": "code",
   "execution_count": 5,
   "id": "94a819d9",
   "metadata": {},
   "outputs": [
    {
     "name": "stdout",
     "output_type": "stream",
     "text": [
      "123\n"
     ]
    }
   ],
   "source": [
    "file_length(\"C:/GEORGIAN/Data Programming/pb2.txt\")"
   ]
  },
  {
   "cell_type": "code",
   "execution_count": 6,
   "id": "d58ba61a",
   "metadata": {},
   "outputs": [
    {
     "name": "stdout",
     "output_type": "stream",
     "text": [
      "file C:/GEORGIAN/Data Programming/pb1.txt is not found.\n"
     ]
    }
   ],
   "source": [
    "file_length(\"C:/GEORGIAN/Data Programming/pb1.txt\")"
   ]
  },
  {
   "cell_type": "markdown",
   "id": "d8373d3e",
   "metadata": {},
   "source": [
    "## Question 3"
   ]
  },
  {
   "cell_type": "code",
   "execution_count": 7,
   "id": "ebdcb2c7",
   "metadata": {},
   "outputs": [],
   "source": [
    "class Marsupial:\n",
    "\n",
    "    def __init__(self):\n",
    "        self.pouch = []\n",
    "\n",
    "    def put_in_pouch(self, product):\n",
    "        self.pouch.append(product)\n",
    "   \n",
    "    def pouch_contents(self):\n",
    "        return self.pouch"
   ]
  },
  {
   "cell_type": "code",
   "execution_count": 8,
   "id": "9b28d7da",
   "metadata": {},
   "outputs": [
    {
     "name": "stdout",
     "output_type": "stream",
     "text": [
      "['doll', 'firetruck', 'kitten']\n"
     ]
    }
   ],
   "source": [
    "m = Marsupial()\n",
    "m.put_in_pouch('doll')\n",
    "m.put_in_pouch('firetruck')\n",
    "m.put_in_pouch('kitten')\n",
    "m.pouch_contents()\n",
    "\n",
    "print(m.pouch_contents())"
   ]
  },
  {
   "cell_type": "code",
   "execution_count": 9,
   "id": "32228277",
   "metadata": {},
   "outputs": [],
   "source": [
    "class Kangaroo(Marsupial):\n",
    "\n",
    "    def __init__(self, x1=0, x2=0):\n",
    "        super().__init__()\n",
    "        self.x1 = x1\n",
    "        self.x2 = x2\n",
    "\n",
    "    def jump(self, dx, dy):\n",
    "        self.x1 += dx\n",
    "        self.x2 += dy\n",
    "\n",
    "    def __str__(self):\n",
    "        return (f\"I am a Kangaroo located at coordinates ({self.x1},{self.x2})\")"
   ]
  },
  {
   "cell_type": "code",
   "execution_count": 10,
   "id": "4bdccd40",
   "metadata": {},
   "outputs": [
    {
     "name": "stdout",
     "output_type": "stream",
     "text": [
      "I am a Kangaroo located at coordinates (3,0)\n"
     ]
    }
   ],
   "source": [
    "k = Kangaroo(0,0)\n",
    "\n",
    "k.jump(1,0)\n",
    "k.jump(1,0)\n",
    "k.jump(1,0)\n",
    "print(k)"
   ]
  },
  {
   "cell_type": "markdown",
   "id": "9a90db0b",
   "metadata": {},
   "source": [
    "## Question 4"
   ]
  },
  {
   "cell_type": "code",
   "execution_count": 11,
   "id": "5cc2a81c",
   "metadata": {},
   "outputs": [],
   "source": [
    "def collatz(x):\n",
    "    print(x)\n",
    "    \n",
    "    if x == 1:\n",
    "        return\n",
    "\n",
    "    elif x % 2 == 0:\n",
    "        collatz(x // 2)\n",
    "\n",
    "    else:\n",
    "        collatz(3 * x + 1)"
   ]
  },
  {
   "cell_type": "code",
   "execution_count": 12,
   "id": "c0158376",
   "metadata": {},
   "outputs": [
    {
     "name": "stdout",
     "output_type": "stream",
     "text": [
      "1\n"
     ]
    }
   ],
   "source": [
    "collatz(1)"
   ]
  },
  {
   "cell_type": "code",
   "execution_count": 13,
   "id": "4f1b7238",
   "metadata": {},
   "outputs": [
    {
     "name": "stdout",
     "output_type": "stream",
     "text": [
      "10\n",
      "5\n",
      "16\n",
      "8\n",
      "4\n",
      "2\n",
      "1\n"
     ]
    }
   ],
   "source": [
    "collatz(10)"
   ]
  },
  {
   "cell_type": "markdown",
   "id": "5e8e891d",
   "metadata": {},
   "source": [
    "## Question 5"
   ]
  },
  {
   "cell_type": "code",
   "execution_count": 14,
   "id": "61d0545e",
   "metadata": {},
   "outputs": [],
   "source": [
    "def binary(n):\n",
    "    if n < 2:\n",
    "        print(n, end='')\n",
    "    else:\n",
    "        binary(n // 2)\n",
    "        print(n % 2, end='')"
   ]
  },
  {
   "cell_type": "code",
   "execution_count": 15,
   "id": "1317fef9",
   "metadata": {},
   "outputs": [
    {
     "name": "stdout",
     "output_type": "stream",
     "text": [
      "0"
     ]
    }
   ],
   "source": [
    "binary(0)"
   ]
  },
  {
   "cell_type": "code",
   "execution_count": 16,
   "id": "629c937b",
   "metadata": {},
   "outputs": [
    {
     "name": "stdout",
     "output_type": "stream",
     "text": [
      "1"
     ]
    }
   ],
   "source": [
    "binary(1)"
   ]
  },
  {
   "cell_type": "code",
   "execution_count": 17,
   "id": "a4bafa5c",
   "metadata": {},
   "outputs": [
    {
     "name": "stdout",
     "output_type": "stream",
     "text": [
      "11"
     ]
    }
   ],
   "source": [
    "binary(3)"
   ]
  },
  {
   "cell_type": "code",
   "execution_count": 18,
   "id": "a0b0a76c",
   "metadata": {},
   "outputs": [
    {
     "name": "stdout",
     "output_type": "stream",
     "text": [
      "1001"
     ]
    }
   ],
   "source": [
    "binary(9)"
   ]
  },
  {
   "cell_type": "markdown",
   "id": "e7e1f33f",
   "metadata": {},
   "source": [
    "## Question 6"
   ]
  },
  {
   "cell_type": "code",
   "execution_count": 19,
   "id": "2f68385c",
   "metadata": {},
   "outputs": [
    {
     "name": "stdout",
     "output_type": "stream",
     "text": [
      "W3C Mission\n",
      "  Principles\n"
     ]
    }
   ],
   "source": [
    "from html.parser import HTMLParser\n",
    "\n",
    "class HeadingParser(HTMLParser):\n",
    "    def __init__(self):\n",
    "        super().__init__()\n",
    "        self.heading_size = 0\n",
    "        self.is_heading = False\n",
    "\n",
    "    def handle_starttag(self, tag, attrs):\n",
    "        if tag == 'h1':\n",
    "            self.heading_size = 1\n",
    "            self.is_heading = True\n",
    "        elif tag == 'h2':\n",
    "            self.heading_size = 2\n",
    "            self.is_heading = True\n",
    "        else:\n",
    "            self.is_heading = False\n",
    "\n",
    "    def handle_data(self, data):\n",
    "        if self.is_heading:\n",
    "            indent = '  ' * (self.heading_size - 1)\n",
    "            heading_data = data.strip()\n",
    "            if heading_data:\n",
    "                print(f\"{indent}{heading_data}\")\n",
    "\n",
    "\n",
    "address = r\"C:/GEORGIAN/Data Programming/w3c.html\"\n",
    "with open(address, 'r') as infile:\n",
    "    content = infile.read()\n",
    "\n",
    "hp = HeadingParser()\n",
    "hp.feed(content)\n"
   ]
  },
  {
   "cell_type": "markdown",
   "id": "a68555c0",
   "metadata": {},
   "source": [
    "## Question 7"
   ]
  },
  {
   "cell_type": "code",
   "execution_count": 20,
   "id": "9684cf7d",
   "metadata": {},
   "outputs": [],
   "source": [
    "from html.parser import HTMLParser\n",
    "from urllib.request import urlopen\n",
    "from urllib.parse import urljoin\n",
    "\n",
    "class MyHTMLParser(HTMLParser):\n",
    "\n",
    "    def __init__(self):\n",
    "        super().__init__()\n",
    "        self.links = []\n",
    "\n",
    "    def handle_starttag(self, tag, attrs):\n",
    "        if tag == 'a':\n",
    "            href = dict(attrs).get('href')\n",
    "            if href:\n",
    "                self.links.append(href)\n",
    "def webdir(url, depth, indent):\n",
    "    print(\" \" * indent, url)\n",
    "    if depth == 0:\n",
    "        return\n",
    "    try:\n",
    "        response = urlopen(url)\n",
    "        html_content = response.read().decode()\n",
    "    except:\n",
    "        return\n",
    "    parser = MyHTMLParser()\n",
    "    parser.feed(html_content)\n",
    "    links = parser.links\n",
    "    for link in links:\n",
    "        sub_url = urljoin(url, link)\n",
    "        webdir(sub_url, depth - 1, indent + 4)"
   ]
  },
  {
   "cell_type": "code",
   "execution_count": 21,
   "id": "0cc52963",
   "metadata": {
    "scrolled": false
   },
   "outputs": [
    {
     "name": "stdout",
     "output_type": "stream",
     "text": [
      " https://reed.cs.depaul.edu/lperkovic/\n",
      "     http://www.cdm.depaul.edu/about/Pages/School-of-Computing.aspx\n",
      "     http://www.cdm.depaul.edu\n",
      "     https://reed.cs.depaul.edu/lperkovic/courses/csc241/\n",
      "     https://reed.cs.depaul.edu/lperkovic/courses/csc242/\n",
      "     https://reed.cs.depaul.edu/lperkovic/papers/papers.html\n"
     ]
    }
   ],
   "source": [
    "webdir(\"https://reed.cs.depaul.edu/lperkovic/\", 2, 0)"
   ]
  },
  {
   "cell_type": "markdown",
   "id": "54797327",
   "metadata": {},
   "source": [
    "## Question 8"
   ]
  },
  {
   "cell_type": "code",
   "execution_count": 32,
   "id": "b0183ee5",
   "metadata": {},
   "outputs": [
    {
     "data": {
      "text/plain": [
       "12"
      ]
     },
     "execution_count": 32,
     "metadata": {},
     "output_type": "execute_result"
    }
   ],
   "source": [
    "import pandas as pd\n",
    "import sqlite3\n",
    "\n",
    "data = {\n",
    "    'City': ['Mumbai', 'Mumbai', 'Mumbai', 'Mumbai', 'London', 'London', 'London', 'London', 'Cairo', 'Cairo', 'Cairo', 'Cairo'],\n",
    "    'Country': ['India', 'India', 'India', 'India', 'United Kingdom', 'United Kingdom', 'United Kingdom', 'United Kingdom', 'Egypt', 'Egypt', 'Egypt', 'Egypt'],\n",
    "    'Season': ['Winter', 'Spring', 'Summer', 'Fall', 'Winter', 'Spring', 'Summer', 'Fall', 'Winter', 'Spring', 'Summer', 'Fall'],\n",
    "    'Temperature': [24.8, 28.4, 27.9, 27.6, 4.2, 8.3, 15.7, 10.4, 13.6, 20.7, 27.7, 22.2],\n",
    "    'Rainfall': [5.9, 16.2, 1549.4, 346.0, 207.7, 169.6, 157.0, 218.5, 16.5, 6.5, 0.1, 4.5]\n",
    "}\n",
    "\n",
    "df = pd.DataFrame(data)\n",
    "\n",
    "conn = sqlite3.connect('temp.db')\n",
    "df.to_sql('temp_table', conn, if_exists='replace', index=False)\n",
    "\n"
   ]
  },
  {
   "cell_type": "code",
   "execution_count": 33,
   "id": "d7b47fb8",
   "metadata": {},
   "outputs": [
    {
     "name": "stdout",
     "output_type": "stream",
     "text": [
      "a) All the temperature data.\n",
      "\n",
      "  City  Temperature\n",
      "Mumbai         24.8\n",
      "Mumbai         28.4\n",
      "Mumbai         27.9\n",
      "Mumbai         27.6\n",
      "London          4.2\n",
      "London          8.3\n",
      "London         15.7\n",
      "London         10.4\n",
      " Cairo         13.6\n",
      " Cairo         20.7\n",
      " Cairo         27.7\n",
      " Cairo         22.2\n",
      "\n",
      "\n",
      "B) All the cities, but without repetition.\n",
      "\n",
      "  City\n",
      "Mumbai\n",
      "London\n",
      " Cairo\n",
      "\n",
      "\n",
      "C) All the records for India.\n",
      "\n",
      "  City Country Season  Temperature  Rainfall\n",
      "Mumbai   India Winter         24.8       5.9\n",
      "Mumbai   India Spring         28.4      16.2\n",
      "Mumbai   India Summer         27.9    1549.4\n",
      "Mumbai   India   Fall         27.6     346.0\n",
      "\n",
      "\n",
      "D) All the Fall records.\n",
      "\n",
      "  City        Country Season  Temperature  Rainfall\n",
      "Mumbai          India   Fall         27.6     346.0\n",
      "London United Kingdom   Fall         10.4     218.5\n",
      " Cairo          Egypt   Fall         22.2       4.5\n",
      "\n",
      "\n",
      "E) The city, country, and season for which the average rainfall is between 200 and 400 millimeters.\n",
      "\n",
      "  City        Country Season\n",
      "London United Kingdom   Fall\n",
      "London United Kingdom Winter\n",
      "Mumbai          India   Fall\n",
      "\n",
      "\n",
      "F) The city and country for which the average Fall temperature is above 20 degrees, in increasing temperature order.\n",
      "\n",
      "  City Country\n",
      " Cairo   Egypt\n",
      "Mumbai   India\n",
      "\n",
      "\n",
      "G) The total annual rainfall for Cairo.\n",
      "\n",
      " Total_Annual_Rainfall\n",
      "                  27.6\n",
      "\n",
      "\n",
      "H) The total rainfall for each season.\n",
      "\n",
      "Season  Total_Rainfall\n",
      "  Fall           569.0\n",
      "Spring           192.3\n",
      "Summer          1706.5\n",
      "Winter           230.1\n",
      "\n",
      "\n"
     ]
    }
   ],
   "source": [
    "import pandas as pd\n",
    "import sqlite3\n",
    "\n",
    "conn = sqlite3.connect('temp.db')\n",
    "\n",
    "query1 = \"SELECT City, Temperature FROM temp_table\"\n",
    "df1 = pd.read_sql_query(query1, conn)\n",
    "print(\"a) All the temperature data.\\n\")\n",
    "print(df1.to_string(index=False))\n",
    "print(\"\\n\")\n",
    "\n",
    "query2 = \"SELECT DISTINCT City FROM temp_table\"\n",
    "df2 = pd.read_sql_query(query2, conn)\n",
    "print(\"B) All the cities, but without repetition.\\n\")\n",
    "print(df2.to_string(index=False))\n",
    "print(\"\\n\")\n",
    "\n",
    "query3 = \"SELECT * FROM temp_table WHERE Country='India'\"\n",
    "df3 = pd.read_sql_query(query3, conn)\n",
    "print(\"C) All the records for India.\\n\")\n",
    "print(df3.to_string(index=False))\n",
    "print(\"\\n\")\n",
    "\n",
    "query4 = \"SELECT * FROM temp_table WHERE Season='Fall'\"\n",
    "df4 = pd.read_sql_query(query4, conn)\n",
    "print(\"D) All the Fall records.\\n\")\n",
    "print(df4.to_string(index=False))\n",
    "print(\"\\n\")\n",
    "\n",
    "query5 = \"\"\"SELECT City, Country, Season\n",
    "            FROM temp_table\n",
    "            GROUP BY City, Country, Season\n",
    "            HAVING AVG(Rainfall) BETWEEN 200 AND 400\"\"\"\n",
    "df5 = pd.read_sql_query(query5, conn)\n",
    "print(\"E) The city, country, and season for which the average rainfall is between 200 and 400 millimeters.\\n\")\n",
    "print(df5.to_string(index=False))\n",
    "print(\"\\n\")\n",
    "\n",
    "query6 = \"\"\"SELECT City, Country\n",
    "            FROM temp_table\n",
    "            WHERE Season='Fall'\n",
    "            GROUP BY City, Country\n",
    "            HAVING AVG(Temperature) > 20\n",
    "            ORDER BY AVG(Temperature) ASC\"\"\"\n",
    "df6 = pd.read_sql_query(query6, conn)\n",
    "print(\"F) The city and country for which the average Fall temperature is above 20 degrees, in increasing temperature order.\\n\")\n",
    "print(df6.to_string(index=False))\n",
    "print(\"\\n\")\n",
    "\n",
    "query7 = \"SELECT SUM(Rainfall) AS Total_Annual_Rainfall FROM temp_table WHERE City='Cairo'\"\n",
    "df7 = pd.read_sql_query(query7, conn)\n",
    "print(\"G) The total annual rainfall for Cairo.\\n\")\n",
    "print(df7.to_string(index=False))\n",
    "print(\"\\n\")\n",
    "\n",
    "query8 = \"SELECT Season, SUM(Rainfall) AS Total_Rainfall FROM temp_table GROUP BY Season\"\n",
    "df8 = pd.read_sql_query(query8, conn)\n",
    "print(\"H) The total rainfall for each season.\\n\")\n",
    "print(df8.to_string(index=False))\n",
    "print(\"\\n\")\n",
    "\n",
    "conn.close()\n"
   ]
  },
  {
   "cell_type": "markdown",
   "id": "a25e70be",
   "metadata": {},
   "source": [
    "## Question 9"
   ]
  },
  {
   "cell_type": "code",
   "execution_count": null,
   "id": "7c697bb4",
   "metadata": {},
   "outputs": [],
   "source": [
    "words = ['The', 'quick', 'brown', 'fox', 'jumps', 'over', 'the', 'lazy', 'dog']\n",
    "\n",
    "r1 = []\n",
    "for word in words:\n",
    "    r1.append(word.upper())\n",
    "print(\"a)\", r1)\n",
    "\n",
    "r2 = []\n",
    "for word in words:\n",
    "    r2.append(word.lower())\n",
    "print(\"b)\", r2)\n",
    "\n",
    "r3 = []\n",
    "for word in words:\n",
    "    r3.append(len(word))\n",
    "print(\"c)\", r3)\n",
    "\n",
    "r4 = []\n",
    "for word in words:\n",
    "    r4.append([word.upper(), word.lower(), len(word)])\n",
    "print(\"d)\", r4)\n",
    "\n",
    "r5 = []\n",
    "for word in words:\n",
    "    if len(word) >= 4:\n",
    "        r5.append(word)\n",
    "print(\"e)\", r5)\n"
   ]
  }
 ],
 "metadata": {
  "kernelspec": {
   "display_name": "Python 3 (ipykernel)",
   "language": "python",
   "name": "python3"
  },
  "language_info": {
   "codemirror_mode": {
    "name": "ipython",
    "version": 3
   },
   "file_extension": ".py",
   "mimetype": "text/x-python",
   "name": "python",
   "nbconvert_exporter": "python",
   "pygments_lexer": "ipython3",
   "version": "3.10.9"
  }
 },
 "nbformat": 4,
 "nbformat_minor": 5
}
